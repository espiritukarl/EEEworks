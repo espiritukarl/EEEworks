{
 "cells": [
  {
   "cell_type": "code",
   "execution_count": 9,
   "metadata": {},
   "outputs": [
    {
     "name": "stdout",
     "output_type": "stream",
     "text": [
      "_________________________________________________________________\n",
      "Layer (type)                 Output Shape              Param #   \n",
      "=================================================================\n",
      "flatten_4 (Flatten)          (None, 3072)              0         \n",
      "_________________________________________________________________\n",
      "dense_13 (Dense)             (None, 256)               786688    \n",
      "_________________________________________________________________\n",
      "dense_14 (Dense)             (None, 256)               65792     \n",
      "_________________________________________________________________\n",
      "dense_15 (Dense)             (None, 256)               65792     \n",
      "_________________________________________________________________\n",
      "dense_16 (Dense)             (None, 10)                2570      \n",
      "=================================================================\n",
      "Total params: 920,842\n",
      "Trainable params: 920,842\n",
      "Non-trainable params: 0\n",
      "_________________________________________________________________\n",
      "Epoch 1/10\n",
      "50000/50000 [==============================] - 22s 432us/step - loss: 1.8481 - acc: 0.3263\n",
      "Epoch 2/10\n",
      "50000/50000 [==============================] - 25s 506us/step - loss: 1.6574 - acc: 0.40431s - \n",
      "Epoch 3/10\n",
      "50000/50000 [==============================] - 24s 484us/step - loss: 1.5828 - acc: 0.4310\n",
      "Epoch 4/10\n",
      "50000/50000 [==============================] - 25s 506us/step - loss: 1.5334 - acc: 0.4480\n",
      "Epoch 5/10\n",
      "50000/50000 [==============================] - 25s 498us/step - loss: 1.4958 - acc: 0.4622\n",
      "Epoch 6/10\n",
      "50000/50000 [==============================] - 25s 496us/step - loss: 1.4627 - acc: 0.4742\n",
      "Epoch 7/10\n",
      "50000/50000 [==============================] - 26s 521us/step - loss: 1.4350 - acc: 0.4838\n",
      "Epoch 8/10\n",
      "50000/50000 [==============================] - 27s 530us/step - loss: 1.4140 - acc: 0.4917\n",
      "Epoch 9/10\n",
      "50000/50000 [==============================] - 26s 511us/step - loss: 1.3903 - acc: 0.5005\n",
      "Epoch 10/10\n",
      "50000/50000 [==============================] - 26s 512us/step - loss: 1.3691 - acc: 0.5084\n"
     ]
    },
    {
     "data": {
      "text/plain": [
       "<keras.callbacks.History at 0x2074cfa3388>"
      ]
     },
     "execution_count": 9,
     "metadata": {},
     "output_type": "execute_result"
    }
   ],
   "source": [
    "import tensorflow as tf\n",
    "import numpy as np\n",
    "from keras.datasets import cifar10\n",
    "from keras.utils import to_categorical\n",
    "from keras.models import Sequential\n",
    "from keras.layers import Flatten, Dense, Dropout\n",
    "\n",
    "(x_train, y_train), (x_test, y_test) = cifar10.load_data()\n",
    "\n",
    "y_train = to_categorical(y_train)\n",
    "y_test = to_categorical(y_test)\n",
    "\n",
    "x_train = x_train.astype('float32') / 255\n",
    "x_test = x_test.astype('float32') / 255\n",
    "\n",
    "model = Sequential()\n",
    "model.add(Flatten())\n",
    "model.add(Dense(256, activation='relu'))\n",
    "model.add(Dense(256, activation='relu'))\n",
    "model.add(Dense(256, activation='relu'))\n",
    "model.add(Dense(10, activation='softmax'))\n",
    "\n",
    "input_shape = (None, 32, 32, 3)\n",
    "model.build(input_shape)\n",
    "model.summary()\n",
    "\n",
    "model.compile(loss='categorical_crossentropy',\n",
    "              optimizer='adam',\n",
    "              metrics=['accuracy'])\n",
    "model.fit(x_train, y_train, epochs=10)"
   ]
  },
  {
   "cell_type": "code",
   "execution_count": 48,
   "metadata": {},
   "outputs": [
    {
     "data": {
      "text/plain": [
       "<matplotlib.image.AxesImage at 0x2074ec8e688>"
      ]
     },
     "execution_count": 48,
     "metadata": {},
     "output_type": "execute_result"
    },
    {
     "data": {
      "image/png": "[encoded data removed]",
      "text/plain": [
       "<Figure size 432x288 with 1 Axes>"
      ]
     },
     "metadata": {
      "needs_background": "light"
     },
     "output_type": "display_data"
    }
   ],
   "source": [
    "import matplotlib.pyplot as plt\n",
    "\n",
    "number = 18\n",
    "(trainx, trainy), (testx, testy) = cifar10.load_data()\n",
    "plt.imshow(testx[number])"
   ]
  },
  {
   "cell_type": "code",
   "execution_count": 49,
   "metadata": {},
   "outputs": [
    {
     "name": "stdout",
     "output_type": "stream",
     "text": [
      "ship\n"
     ]
    }
   ],
   "source": [
    "predictions = model.predict([x_test])\n",
    "i = np.argmax(predictions[number])\n",
    "categories = [\"airplane\", \"automobile\", \"bird\", \"cat\", \n",
    "              \"deer\", \"dog\", \"frog\", \"horse\", \"ship\", \"truck\"]\n",
    "print(categories[i])"
   ]
  },
  {
   "cell_type": "code",
   "execution_count": null,
   "metadata": {},
   "outputs": [],
   "source": []
  }
 ],
 "metadata": {
  "kernelspec": {
   "display_name": "Python 3",
   "language": "python",
   "name": "python3"
  },
  "language_info": {
   "codemirror_mode": {
    "name": "ipython",
    "version": 3
   },
   "file_extension": ".py",
   "mimetype": "text/x-python",
   "name": "python",
   "nbconvert_exporter": "python",
   "pygments_lexer": "ipython3",
   "version": "3.7.4"
  }
 },
 "nbformat": 4,
 "nbformat_minor": 2
}
