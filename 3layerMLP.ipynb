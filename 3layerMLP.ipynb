{
 "cells": [
  {
   "cell_type": "code",
   "execution_count": 156,
   "metadata": {},
   "outputs": [
    {
     "name": "stdout",
     "output_type": "stream",
     "text": [
      "Epoch 1/10\n",
      "50000/50000 [==============================] - 74s 1ms/step - loss: 2.0293 - acc: 0.2570: 3s  - ETA: 1s - loss: 2.0306 \n",
      "Epoch 2/10\n",
      "50000/50000 [==============================] - 74s 1ms/step - loss: 1.8558 - acc: 0.3331\n",
      "Epoch 3/10\n",
      "50000/50000 [==============================] - 75s 2ms/step - loss: 1.7858 - acc: 0.3609\n",
      "Epoch 4/10\n",
      "50000/50000 [==============================] - 75s 1ms/step - loss: 1.7386 - acc: 0.3777\n",
      "Epoch 5/10\n",
      "50000/50000 [==============================] - 76s 2ms/step - loss: 1.7034 - acc: 0.3897\n",
      "Epoch 6/10\n",
      "50000/50000 [==============================] - 75s 1ms/step - loss: 1.6683 - acc: 0.4027\n",
      "Epoch 7/10\n",
      "50000/50000 [==============================] - 70s 1ms/step - loss: 1.6445 - acc: 0.4130\n",
      "Epoch 8/10\n",
      "50000/50000 [==============================] - 75s 1ms/step - loss: 1.6147 - acc: 0.4236\n",
      "Epoch 9/10\n",
      "50000/50000 [==============================] - 75s 2ms/step - loss: 1.5868 - acc: 0.4313\n",
      "Epoch 10/10\n",
      "50000/50000 [==============================] - 73s 1ms/step - loss: 1.5662 - acc: 0.4409\n"
     ]
    },
    {
     "data": {
      "text/plain": [
       "<keras.callbacks.History at 0x2296002db08>"
      ]
     },
     "execution_count": 156,
     "metadata": {},
     "output_type": "execute_result"
    }
   ],
   "source": [
    "import tensorflow as tf\n",
    "from keras.datasets import cifar10\n",
    "from keras.utils import normalize, to_categorical\n",
    "from keras.models import Sequential\n",
    "from keras.layers import Flatten, Dense, Dropout\n",
    "\n",
    "(x_train, y_train), (x_test, y_test) = cifar10.load_data()\n",
    "\n",
    "y_train = to_categorical(y_train)\n",
    "y_test = to_categorical(y_test)\n",
    "\n",
    "x_train = normalize(x_train, axis=1)\n",
    "x_test = normalize(x_test, axis=1)\n",
    "\n",
    "model = Sequential()\n",
    "model.add(Flatten())\n",
    "model.add(Dense(256, activation='relu'))\n",
    "model.add(Dense(256, activation='relu'))\n",
    "model.add(Dense(256, activation='relu'))\n",
    "model.add(Dense(10, activation='softmax'))\n",
    "\n",
    "model.compile(loss='categorical_crossentropy',\n",
    "              optimizer='adam',\n",
    "              metrics=['accuracy'])\n",
    "model.fit(x_train, y_train, epochs=10)"
   ]
  },
  {
   "cell_type": "code",
   "execution_count": 167,
   "metadata": {},
   "outputs": [
    {
     "data": {
      "text/plain": [
       "<matplotlib.image.AxesImage at 0x22969392b88>"
      ]
     },
     "execution_count": 167,
     "metadata": {},
     "output_type": "execute_result"
    },
    {
     "data": {
      "image/png": "[encoded data removed]",
      "text/plain": [
       "<Figure size 432x288 with 1 Axes>"
      ]
     },
     "metadata": {
      "needs_background": "light"
     },
     "output_type": "display_data"
    }
   ],
   "source": [
    "import matplotlib.pyplot as plt\n",
    "\n",
    "number = 9\n",
    "(trainx, trainy), (testx, testy) = cifar10.load_data()\n",
    "plt.imshow(testx[number])"
   ]
  },
  {
   "cell_type": "code",
   "execution_count": 168,
   "metadata": {},
   "outputs": [
    {
     "name": "stdout",
     "output_type": "stream",
     "text": [
      "automobile\n"
     ]
    }
   ],
   "source": [
    "import numpy as np\n",
    "\n",
    "predictions = model.predict([x_test])\n",
    "i = np.argmax(predictions[number])\n",
    "categories = [\"airplane\", \"automobile\", \"bird\", \"cat\", \n",
    "              \"deer\", \"dog\", \"frog\", \"horse\", \"ship\", \"truck\"]\n",
    "print(categories[i])"
   ]
  },
  {
   "cell_type": "code",
   "execution_count": null,
   "metadata": {},
   "outputs": [],
   "source": []
  }
 ],
 "metadata": {
  "kernelspec": {
   "display_name": "Python 3",
   "language": "python",
   "name": "python3"
  }
 },
 "nbformat": 4,
 "nbformat_minor": 2
}
