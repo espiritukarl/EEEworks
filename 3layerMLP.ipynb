{
 "cells": [
  {
   "cell_type": "code",
   "execution_count": 9,
   "metadata": {},
   "outputs": [
    {
     "name": "stdout",
     "output_type": "stream",
     "text": [
      "_________________________________________________________________\n",
      "Layer (type)                 Output Shape              Param #   \n",
      "=================================================================\n",
      "flatten_7 (Flatten)          (None, 3072)              0         \n",
      "_________________________________________________________________\n",
      "dense_22 (Dense)             (None, 256)               786688    \n",
      "_________________________________________________________________\n",
      "dropout_2 (Dropout)          (None, 256)               0         \n",
      "_________________________________________________________________\n",
      "dense_23 (Dense)             (None, 256)               65792     \n",
      "_________________________________________________________________\n",
      "dense_24 (Dense)             (None, 256)               65792     \n",
      "_________________________________________________________________\n",
      "dense_25 (Dense)             (None, 10)                2570      \n",
      "_________________________________________________________________\n",
      "activation_6 (Activation)    (None, 10)                0         \n",
      "=================================================================\n",
      "Total params: 920,842\n",
      "Trainable params: 920,842\n",
      "Non-trainable params: 0\n",
      "_________________________________________________________________\n",
      "Epoch 1/25\n",
      "50000/50000 [==============================] - 5s 90us/step - loss: 2.0135 - acc: 0.2650\n",
      "Epoch 2/25\n",
      "50000/50000 [==============================] - 4s 77us/step - loss: 1.8282 - acc: 0.3476\n",
      "Epoch 3/25\n",
      "50000/50000 [==============================] - 4s 78us/step - loss: 1.7507 - acc: 0.3748\n",
      "Epoch 4/25\n",
      "50000/50000 [==============================] - 4s 80us/step - loss: 1.7062 - acc: 0.3912\n",
      "Epoch 5/25\n",
      "50000/50000 [==============================] - 4s 79us/step - loss: 1.6571 - acc: 0.4088\n",
      "Epoch 6/25\n",
      "50000/50000 [==============================] - 5s 96us/step - loss: 1.6269 - acc: 0.4235\n",
      "Epoch 7/25\n",
      "50000/50000 [==============================] - 4s 86us/step - loss: 1.5978 - acc: 0.4303\n",
      "Epoch 8/25\n",
      "50000/50000 [==============================] - 4s 77us/step - loss: 1.5818 - acc: 0.4386\n",
      "Epoch 9/25\n",
      "50000/50000 [==============================] - 4s 75us/step - loss: 1.5620 - acc: 0.4455\n",
      "Epoch 10/25\n",
      "50000/50000 [==============================] - 4s 75us/step - loss: 1.5455 - acc: 0.4511\n",
      "Epoch 11/25\n",
      "50000/50000 [==============================] - 4s 75us/step - loss: 1.5260 - acc: 0.4578\n",
      "Epoch 12/25\n",
      "50000/50000 [==============================] - 4s 75us/step - loss: 1.5055 - acc: 0.4651\n",
      "Epoch 13/25\n",
      "50000/50000 [==============================] - 4s 75us/step - loss: 1.5015 - acc: 0.4667\n",
      "Epoch 14/25\n",
      "50000/50000 [==============================] - 4s 75us/step - loss: 1.4883 - acc: 0.4721\n",
      "Epoch 15/25\n",
      "50000/50000 [==============================] - 4s 75us/step - loss: 1.4724 - acc: 0.4776\n",
      "Epoch 16/25\n",
      "50000/50000 [==============================] - 4s 75us/step - loss: 1.4604 - acc: 0.4813\n",
      "Epoch 17/25\n",
      "50000/50000 [==============================] - 4s 75us/step - loss: 1.4572 - acc: 0.4817\n",
      "Epoch 18/25\n",
      "50000/50000 [==============================] - 4s 75us/step - loss: 1.4408 - acc: 0.4901\n",
      "Epoch 19/25\n",
      "50000/50000 [==============================] - 4s 75us/step - loss: 1.4318 - acc: 0.4901\n",
      "Epoch 20/25\n",
      "50000/50000 [==============================] - 4s 75us/step - loss: 1.4230 - acc: 0.4927\n",
      "Epoch 21/25\n",
      "50000/50000 [==============================] - 4s 75us/step - loss: 1.4125 - acc: 0.4977\n",
      "Epoch 22/25\n",
      "50000/50000 [==============================] - 4s 75us/step - loss: 1.4068 - acc: 0.5012\n",
      "Epoch 23/25\n",
      "50000/50000 [==============================] - 4s 83us/step - loss: 1.3999 - acc: 0.5015\n",
      "Epoch 24/25\n",
      "50000/50000 [==============================] - 4s 88us/step - loss: 1.3921 - acc: 0.5075\n",
      "Epoch 25/25\n",
      "50000/50000 [==============================] - 4s 86us/step - loss: 1.3807 - acc: 0.5081\n"
     ]
    },
    {
     "data": {
      "text/plain": [
       "<keras.callbacks.History at 0x25afb535088>"
      ]
     },
     "execution_count": 9,
     "metadata": {},
     "output_type": "execute_result"
    }
   ],
   "source": [
    "import tensorflow as tf\n",
    "import numpy as np\n",
    "from keras import optimizers\n",
    "from keras.datasets import cifar10\n",
    "from keras.utils import to_categorical\n",
    "from keras.models import Sequential\n",
    "from keras.layers import Flatten, Dense, Activation, Dropout\n",
    "\n",
    "(x_train, y_train), (x_test, y_test) = cifar10.load_data()\n",
    "\n",
    "y_train = to_categorical(y_train)\n",
    "y_test = to_categorical(y_test)\n",
    "\n",
    "x_train = x_train.astype('float32') / 255\n",
    "x_test = x_test.astype('float32') / 255\n",
    "\n",
    "model = Sequential()\n",
    "model.add(Flatten())\n",
    "model.add(Dense(256, activation='relu'))\n",
    "model.add(Dropout(0.3))\n",
    "model.add(Dense(256, activation='relu'))\n",
    "model.add(Dense(256, activation='relu'))\n",
    "model.add(Dense(10))\n",
    "model.add(Activation('softmax'))\n",
    "\n",
    "input_shape = (None, 32, 32, 3)\n",
    "model.build(input_shape)\n",
    "model.summary()\n",
    "\n",
    "adam = optimizers.Adam(lr=0.0001, beta_1=0.99, beta_2=0.999, amsgrad=False)\n",
    "model.compile(loss='categorical_crossentropy',\n",
    "              optimizer=adam,\n",
    "              metrics=['accuracy'])\n",
    "model.fit(x_train, y_train, epochs=25, batch_size=128)"
   ]
  },
  {
   "cell_type": "code",
   "execution_count": 10,
   "metadata": {},
   "outputs": [
    {
     "name": "stdout",
     "output_type": "stream",
     "text": [
      "10000/10000 [==============================] - 1s 88us/step\n",
      "Test Loss: 1.3637356815338135 Test Acc: 0.5089\n"
     ]
    }
   ],
   "source": [
    "test_loss, test_acc = model.evaluate(x_test, y_test)\n",
    "print(\"Test Loss: {0} Test Acc: {1}\".format(test_loss, test_acc))"
   ]
  },
  {
   "cell_type": "code",
   "execution_count": 13,
   "metadata": {},
   "outputs": [
    {
     "data": {
      "text/plain": [
       "<matplotlib.image.AxesImage at 0x25afe074c88>"
      ]
     },
     "execution_count": 13,
     "metadata": {},
     "output_type": "execute_result"
    },
    {
     "data": {
      "image/png": "[encoded data removed]",
      "text/plain": [
       "<Figure size 432x288 with 1 Axes>"
      ]
     },
     "metadata": {
      "needs_background": "light"
     },
     "output_type": "display_data"
    }
   ],
   "source": [
    "import matplotlib.pyplot as plt\n",
    "\n",
    "number = 30\n",
    "(trainx, trainy), (testx, testy) = cifar10.load_data()\n",
    "plt.imshow(testx[number])"
   ]
  },
  {
   "cell_type": "code",
   "execution_count": 12,
   "metadata": {},
   "outputs": [
    {
     "name": "stdout",
     "output_type": "stream",
     "text": [
      "frog\n"
     ]
    }
   ],
   "source": [
    "predictions = model.predict([x_test])\n",
    "i = np.argmax(predictions[number])\n",
    "categories = [\"airplane\", \"automobile\", \"bird\", \"cat\", \n",
    "              \"deer\", \"dog\", \"frog\", \"horse\", \"ship\", \"truck\"]\n",
    "print(categories[i])"
   ]
  },
  {
   "cell_type": "code",
   "execution_count": null,
   "metadata": {},
   "outputs": [],
   "source": []
  }
 ],
 "metadata": {
  "kernelspec": {
   "display_name": "Python 3",
   "language": "python",
   "name": "python3"
  },
  "language_info": {
   "codemirror_mode": {
    "name": "ipython",
    "version": 3
   },
   "file_extension": ".py",
   "mimetype": "text/x-python",
   "name": "python",
   "nbconvert_exporter": "python",
   "pygments_lexer": "ipython3",
   "version": "3.7.4"
  }
 },
 "nbformat": 4,
 "nbformat_minor": 2
}
